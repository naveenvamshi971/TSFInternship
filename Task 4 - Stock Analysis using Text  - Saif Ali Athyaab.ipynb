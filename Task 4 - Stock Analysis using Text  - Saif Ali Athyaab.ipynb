{
 "cells": [
  {
   "cell_type": "markdown",
   "metadata": {
    "id": "0Py0WMSaM5bC"
   },
   "source": [
    "# Task 4 - Stock Analysis using Text\n",
    "\n",
    "## Saif Ali Athyaab\n",
    "\n",
    "Sentimental analysis of news headlines."
   ]
  },
  {
   "cell_type": "code",
   "execution_count": 5,
   "metadata": {
    "id": "PbHIr-niKwcO"
   },
   "outputs": [],
   "source": [
    "import pandas as pd\n",
    "# Load the data and EDA\n",
    "from google.colab import files\n",
    "# when using Google Colab"
   ]
  },
  {
   "cell_type": "code",
   "execution_count": 6,
   "metadata": {
    "colab": {
     "base_uri": "https://localhost:8080/",
     "height": 768
    },
    "id": "JvbdTyOoMNnf",
    "outputId": "4abcbe8a-e2d4-4148-b75f-1e895e97374e"
   },
   "outputs": [
    {
     "data": {
      "text/html": [
       "<div>\n",
       "<style scoped>\n",
       "    .dataframe tbody tr th:only-of-type {\n",
       "        vertical-align: middle;\n",
       "    }\n",
       "\n",
       "    .dataframe tbody tr th {\n",
       "        vertical-align: top;\n",
       "    }\n",
       "\n",
       "    .dataframe thead th {\n",
       "        text-align: right;\n",
       "    }\n",
       "</style>\n",
       "<table border=\"1\" class=\"dataframe\">\n",
       "  <thead>\n",
       "    <tr style=\"text-align: right;\">\n",
       "      <th></th>\n",
       "      <th>Date</th>\n",
       "      <th>Label</th>\n",
       "      <th>Top1</th>\n",
       "      <th>Top2</th>\n",
       "      <th>Top3</th>\n",
       "      <th>Top4</th>\n",
       "      <th>Top5</th>\n",
       "      <th>Top6</th>\n",
       "      <th>Top7</th>\n",
       "      <th>Top8</th>\n",
       "      <th>Top9</th>\n",
       "      <th>Top10</th>\n",
       "      <th>Top11</th>\n",
       "      <th>Top12</th>\n",
       "      <th>Top13</th>\n",
       "      <th>Top14</th>\n",
       "      <th>Top15</th>\n",
       "      <th>Top16</th>\n",
       "      <th>Top17</th>\n",
       "      <th>Top18</th>\n",
       "      <th>Top19</th>\n",
       "      <th>Top20</th>\n",
       "      <th>Top21</th>\n",
       "      <th>Top22</th>\n",
       "      <th>Top23</th>\n",
       "      <th>Top24</th>\n",
       "      <th>Top25</th>\n",
       "    </tr>\n",
       "  </thead>\n",
       "  <tbody>\n",
       "    <tr>\n",
       "      <th>0</th>\n",
       "      <td>2020-01-03</td>\n",
       "      <td>0</td>\n",
       "      <td>A 'hindrance to operations': extracts from the...</td>\n",
       "      <td>Scorecard</td>\n",
       "      <td>Hughes' instant hit buoys Blues</td>\n",
       "      <td>Jack gets his skates on at ice-cold Alex</td>\n",
       "      <td>Chaos as Maracana builds up for United</td>\n",
       "      <td>Depleted Leicester prevail as Elliott spoils E...</td>\n",
       "      <td>Hungry Spurs sense rich pickings</td>\n",
       "      <td>Gunners so wide of an easy target</td>\n",
       "      <td>Derby raise a glass to Strupar's debut double</td>\n",
       "      <td>Southgate strikes, Leeds pay the penalty</td>\n",
       "      <td>Hammers hand Robson a youthful lesson</td>\n",
       "      <td>Saints party like it's 1999</td>\n",
       "      <td>Wear wolves have turned into lambs</td>\n",
       "      <td>Stump mike catches testy Gough's taunt</td>\n",
       "      <td>Langer escapes to hit 167</td>\n",
       "      <td>Flintoff injury piles on woe for England</td>\n",
       "      <td>Hunters threaten Jospin with new battle of the...</td>\n",
       "      <td>Kohl's successor drawn into scandal</td>\n",
       "      <td>The difference between men and women</td>\n",
       "      <td>Sara Denver, nurse turned solicitor</td>\n",
       "      <td>Diana's landmine crusade put Tories in a panic</td>\n",
       "      <td>Yeltsin's resignation caught opposition flat-f...</td>\n",
       "      <td>Russian roulette</td>\n",
       "      <td>Sold out</td>\n",
       "      <td>Recovering a title</td>\n",
       "    </tr>\n",
       "    <tr>\n",
       "      <th>1</th>\n",
       "      <td>2020-01-04</td>\n",
       "      <td>0</td>\n",
       "      <td>Scorecard</td>\n",
       "      <td>The best lake scene</td>\n",
       "      <td>Leader: German sleaze inquiry</td>\n",
       "      <td>Cheerio, boyo</td>\n",
       "      <td>The main recommendations</td>\n",
       "      <td>Has Cubie killed fees?</td>\n",
       "      <td>Has Cubie killed fees?</td>\n",
       "      <td>Has Cubie killed fees?</td>\n",
       "      <td>Hopkins 'furious' at Foster's lack of Hannibal...</td>\n",
       "      <td>Has Cubie killed fees?</td>\n",
       "      <td>A tale of two tails</td>\n",
       "      <td>I say what I like and I like what I say</td>\n",
       "      <td>Elbows, Eyes and Nipples</td>\n",
       "      <td>Task force to assess risk of asteroid collision</td>\n",
       "      <td>How I found myself at last</td>\n",
       "      <td>On the critical list</td>\n",
       "      <td>The timing of their lives</td>\n",
       "      <td>Dear doctor</td>\n",
       "      <td>Irish court halts IRA man's extradition to Nor...</td>\n",
       "      <td>Burundi peace initiative fades after rebels re...</td>\n",
       "      <td>PE points the way forward to the ECB</td>\n",
       "      <td>Campaigners keep up pressure on Nazi war crime...</td>\n",
       "      <td>Jane Ratcliffe</td>\n",
       "      <td>Yet more things you wouldn't know without the ...</td>\n",
       "      <td>Millennium bug fails to bite</td>\n",
       "    </tr>\n",
       "    <tr>\n",
       "      <th>2</th>\n",
       "      <td>2020-01-05</td>\n",
       "      <td>0</td>\n",
       "      <td>Coventry caught on counter by Flo</td>\n",
       "      <td>United's rivals on the road to Rio</td>\n",
       "      <td>Thatcher issues defence before trial by video</td>\n",
       "      <td>Police help Smith lay down the law at Everton</td>\n",
       "      <td>Tale of Trautmann bears two more retellings</td>\n",
       "      <td>England on the rack</td>\n",
       "      <td>Pakistan retaliate with call for video of Walsh</td>\n",
       "      <td>Cullinan continues his Cape monopoly</td>\n",
       "      <td>McGrath puts India out of their misery</td>\n",
       "      <td>Blair Witch bandwagon rolls on</td>\n",
       "      <td>Pele turns up heat on Ferguson</td>\n",
       "      <td>Party divided over Kohl slush fund scandal</td>\n",
       "      <td>Manchester United (England)</td>\n",
       "      <td>Women in record South Pole walk</td>\n",
       "      <td>Vasco da Gama (Brazil)</td>\n",
       "      <td>South Melbourne (Australia)</td>\n",
       "      <td>Necaxa (Mexico)</td>\n",
       "      <td>Real Madrid (Spain)</td>\n",
       "      <td>Raja Casablanca (Morocco)</td>\n",
       "      <td>Corinthians (Brazil)</td>\n",
       "      <td>Tony's pet project</td>\n",
       "      <td>Al Nassr (Saudi Arabia)</td>\n",
       "      <td>Ideal Holmes show</td>\n",
       "      <td>Pinochet leaves hospital after tests</td>\n",
       "      <td>Useful links</td>\n",
       "    </tr>\n",
       "    <tr>\n",
       "      <th>3</th>\n",
       "      <td>2020-01-06</td>\n",
       "      <td>1</td>\n",
       "      <td>Pilgrim knows how to progress</td>\n",
       "      <td>Thatcher facing ban</td>\n",
       "      <td>McIlroy calls for Irish fighting spirit</td>\n",
       "      <td>Leicester bin stadium blueprint</td>\n",
       "      <td>United braced for Mexican wave</td>\n",
       "      <td>Auntie back in fashion, even if the dress look...</td>\n",
       "      <td>Shoaib appeal goes to the top</td>\n",
       "      <td>Hussain hurt by 'shambles' but lays blame on e...</td>\n",
       "      <td>England's decade of disasters</td>\n",
       "      <td>Revenge is sweet for jubilant Cronje</td>\n",
       "      <td>Our choice, not theirs</td>\n",
       "      <td>Profile of former US Nazi Party officer Willia...</td>\n",
       "      <td>New evidence shows record of war crimes suspec...</td>\n",
       "      <td>The rise of the supernerds</td>\n",
       "      <td>Written on the body</td>\n",
       "      <td>Putin admits Yeltsin quit to give him a head s...</td>\n",
       "      <td>BBC worst hit as digital TV begins to bite</td>\n",
       "      <td>How much can you pay for...</td>\n",
       "      <td>Christmas glitches</td>\n",
       "      <td>Upending a table, Chopping a line and Scoring ...</td>\n",
       "      <td>Scientific evidence 'unreliable', defence claims</td>\n",
       "      <td>Fusco wins judicial review in extradition case</td>\n",
       "      <td>Rebels thwart Russian advance</td>\n",
       "      <td>Blair orders shake-up of failing NHS</td>\n",
       "      <td>Lessons of law's hard heart</td>\n",
       "    </tr>\n",
       "    <tr>\n",
       "      <th>4</th>\n",
       "      <td>2020-01-07</td>\n",
       "      <td>1</td>\n",
       "      <td>Hitches and Horlocks</td>\n",
       "      <td>Beckham off but United survive</td>\n",
       "      <td>Breast cancer screening</td>\n",
       "      <td>Alan Parker</td>\n",
       "      <td>Guardian readers: are you all whingers?</td>\n",
       "      <td>Hollywood Beyond</td>\n",
       "      <td>Ashes and diamonds</td>\n",
       "      <td>Whingers - a formidable minority</td>\n",
       "      <td>Alan Parker - part two</td>\n",
       "      <td>Thuggery, Toxins and Ties</td>\n",
       "      <td>Met faces fresh attack on race crime</td>\n",
       "      <td>Everton fans top racist 'league of shame'</td>\n",
       "      <td>Our breasts, ourselves</td>\n",
       "      <td>Russia's new boss has an extremely strange his...</td>\n",
       "      <td>Always and forever</td>\n",
       "      <td>Most everywhere:  UDIs</td>\n",
       "      <td>Most wanted:  Chloe lunettes</td>\n",
       "      <td>Return of the cane 'completely off the agenda'</td>\n",
       "      <td>From Sleepy Hollow to Greeneland</td>\n",
       "      <td>Blunkett outlines vision for over 11s</td>\n",
       "      <td>Embattled Dobson attacks 'play now, pay later'...</td>\n",
       "      <td>Doom and the Dome</td>\n",
       "      <td>What is the north-south divide?</td>\n",
       "      <td>Aitken released from jail</td>\n",
       "      <td>Gone aloft</td>\n",
       "    </tr>\n",
       "  </tbody>\n",
       "</table>\n",
       "</div>"
      ],
      "text/plain": [
       "         Date  ...                         Top25\n",
       "0  2020-01-03  ...            Recovering a title\n",
       "1  2020-01-04  ...  Millennium bug fails to bite\n",
       "2  2020-01-05  ...                  Useful links\n",
       "3  2020-01-06  ...   Lessons of law's hard heart\n",
       "4  2020-01-07  ...                    Gone aloft\n",
       "\n",
       "[5 rows x 27 columns]"
      ]
     },
     "execution_count": 6,
     "metadata": {
      "tags": []
     },
     "output_type": "execute_result"
    }
   ],
   "source": [
    "df=pd.read_csv('/content/Data.csv', encoding='ISO-8859-1') #  the right encoding format to decrypt our data\n",
    "df.head() # print the first few rows"
   ]
  },
  {
   "cell_type": "code",
   "execution_count": 5,
   "metadata": {
    "id": "XnDmYfDfMNk0"
   },
   "outputs": [],
   "source": [
    "train = df[df['Date'] < '20150101'] # splitting our datset to train an test\n",
    "test = df[df['Date'] > '20141231']"
   ]
  },
  {
   "cell_type": "code",
   "execution_count": 6,
   "metadata": {
    "colab": {
     "base_uri": "https://localhost:8080/",
     "height": 717
    },
    "id": "MlFD2GE_MNjr",
    "outputId": "d5f8c8d3-86d9-469e-8839-0fe4d52598a1"
   },
   "outputs": [
    {
     "data": {
      "text/html": [
       "<div>\n",
       "<style scoped>\n",
       "    .dataframe tbody tr th:only-of-type {\n",
       "        vertical-align: middle;\n",
       "    }\n",
       "\n",
       "    .dataframe tbody tr th {\n",
       "        vertical-align: top;\n",
       "    }\n",
       "\n",
       "    .dataframe thead th {\n",
       "        text-align: right;\n",
       "    }\n",
       "</style>\n",
       "<table border=\"1\" class=\"dataframe\">\n",
       "  <thead>\n",
       "    <tr style=\"text-align: right;\">\n",
       "      <th></th>\n",
       "      <th>0</th>\n",
       "      <th>1</th>\n",
       "      <th>2</th>\n",
       "      <th>3</th>\n",
       "      <th>4</th>\n",
       "      <th>5</th>\n",
       "      <th>6</th>\n",
       "      <th>7</th>\n",
       "      <th>8</th>\n",
       "      <th>9</th>\n",
       "      <th>10</th>\n",
       "      <th>11</th>\n",
       "      <th>12</th>\n",
       "      <th>13</th>\n",
       "      <th>14</th>\n",
       "      <th>15</th>\n",
       "      <th>16</th>\n",
       "      <th>17</th>\n",
       "      <th>18</th>\n",
       "      <th>19</th>\n",
       "      <th>20</th>\n",
       "      <th>21</th>\n",
       "      <th>22</th>\n",
       "      <th>23</th>\n",
       "      <th>24</th>\n",
       "    </tr>\n",
       "  </thead>\n",
       "  <tbody>\n",
       "    <tr>\n",
       "      <th>247</th>\n",
       "      <td>Letters  In memory of Charlotte Wilson</td>\n",
       "      <td>Margaret s state of health causes Queen concern</td>\n",
       "      <td>Money and politics   the winners and losers</td>\n",
       "      <td>Blair may ask   m donor to go public</td>\n",
       "      <td>Labour looks for business backing</td>\n",
       "      <td>Profile  Paul Hamlyn</td>\n",
       "      <td>George Carman</td>\n",
       "      <td>Algerian  critical  after street stabbing</td>\n",
       "      <td>Statue  Chain  and Medal</td>\n",
       "      <td>Labour s mystery benefactor</td>\n",
       "      <td>George Carman QC dies</td>\n",
       "      <td>Woman killed in giant landslide in Wales</td>\n",
       "      <td>George Carman QC  a career in quotations</td>\n",
       "      <td>Happy New Year from SocietyGuardian co uk</td>\n",
       "      <td>We felt we were poisoning her</td>\n",
       "      <td>The diary of a junior doctor</td>\n",
       "      <td>Self help books</td>\n",
       "      <td>Dear doctor</td>\n",
       "      <td>Lord Hamlyn is Labour s   m donor</td>\n",
       "      <td>Playing with the phantoms of Prussia past</td>\n",
       "      <td>Canal Plus to sell stake in Eurosport</td>\n",
       "      <td>Interview  Ben Kingsley</td>\n",
       "      <td>Amazon announces record sales for December</td>\n",
       "      <td>Compromise solution to WH Smith distribution row</td>\n",
       "      <td>Arafat s last despairing bid for peace</td>\n",
       "    </tr>\n",
       "    <tr>\n",
       "      <th>248</th>\n",
       "      <td>BG goes volatile again</td>\n",
       "      <td>Shrinking Westminster</td>\n",
       "      <td>From  Deirdre    Jan</td>\n",
       "      <td>Where did it all go wrong  Winona</td>\n",
       "      <td>Number of boys held on remand doubles</td>\n",
       "      <td>Why didn t they just publish and be damned</td>\n",
       "      <td>Shrinking Westminster</td>\n",
       "      <td>Intel inside the portable gadget market</td>\n",
       "      <td>Malcolm  Dean  Cheques and balances</td>\n",
       "      <td>Commuter trains in near collision</td>\n",
       "      <td>BBC Worldwide Christmas sales reach    m</td>\n",
       "      <td>Young carers are shameful reminder of system s...</td>\n",
       "      <td>Councils may lose housing duties under Tory plan</td>\n",
       "      <td>WH Smith abandons distribution plans</td>\n",
       "      <td>Obituary  George Carman</td>\n",
       "      <td>Letsbuyit com on the brink</td>\n",
       "      <td>Sykes takes up reins at Imperial</td>\n",
       "      <td>Get well soon  Welcome back  and Goodbye for ever</td>\n",
       "      <td>Ikea ad voted  most irritating  of the year</td>\n",
       "      <td>ITV misses peak time target</td>\n",
       "      <td>Arms and the  innocent  man</td>\n",
       "      <td>The panel  toddler tax credit</td>\n",
       "      <td>Dreaming of a slack Christmas</td>\n",
       "      <td>Erin Gill on being brought up by her father</td>\n",
       "      <td>Finding a perfect nanny</td>\n",
       "    </tr>\n",
       "    <tr>\n",
       "      <th>249</th>\n",
       "      <td>A year of two halves</td>\n",
       "      <td>Still king of the cups</td>\n",
       "      <td>Litmanen signing leaves Fowler in limbo</td>\n",
       "      <td>Bull to pull on boots again for Hereford</td>\n",
       "      <td>Countdown to the Trustee Act</td>\n",
       "      <td>From  Andrew    Dec</td>\n",
       "      <td>Week    San Franscisco to Fiji</td>\n",
       "      <td>From   e kiloh     Jan</td>\n",
       "      <td>Charity warns of increase in disabled births f...</td>\n",
       "      <td>Lib Lab links in  coma  over voting reform</td>\n",
       "      <td>Ailing princess may have had a second stroke</td>\n",
       "      <td>Alan Garner gets OBE</td>\n",
       "      <td>It s a numbers game in teacher  meltdown</td>\n",
       "      <td>Schools face four day week</td>\n",
       "      <td>Double first for novel newcomer Zadie Smith</td>\n",
       "      <td>Costly drugs case collapses</td>\n",
       "      <td>Crossing the public private divide</td>\n",
       "      <td>US ad campaign attacks marijuana laws</td>\n",
       "      <td>NewsCorp denies hitch in US TV deal</td>\n",
       "      <td>Yahoo  agrees to ban auctions of Nazi memorabilia</td>\n",
       "      <td>Jari Litmanen s dream move  Ross Kemp s Christ...</td>\n",
       "      <td>The questions people ask</td>\n",
       "      <td>Choosing a hairdryer</td>\n",
       "      <td>Arafat allies stand by refugees</td>\n",
       "      <td>Labour donors give   m to party</td>\n",
       "    </tr>\n",
       "    <tr>\n",
       "      <th>250</th>\n",
       "      <td>The terrorist s daughter whose vendetta shook ...</td>\n",
       "      <td>Caniggia to stay at Dundee</td>\n",
       "      <td>From  Alex    Jan</td>\n",
       "      <td>Week    Kathmandu to Pokhara</td>\n",
       "      <td>From  Dale    Jan</td>\n",
       "      <td>Broken Cup needs fixing</td>\n",
       "      <td>Workers  welcome</td>\n",
       "      <td>Journalists take issue with Boycott</td>\n",
       "      <td>Teachers may force four day week</td>\n",
       "      <td>Roll on Glastonbury</td>\n",
       "      <td>On the new publication of Grove  the book of m...</td>\n",
       "      <td>Berio  Sinfonia</td>\n",
       "      <td>Continuing  Ending  and Starting</td>\n",
       "      <td>Plug pulled on Glastonbury after council launc...</td>\n",
       "      <td>Bacardi launches branded cat collars</td>\n",
       "      <td>Overheard</td>\n",
       "      <td>Brace yourselves for the return of lesbian chic</td>\n",
       "      <td>Ken Maginnis bows out</td>\n",
       "      <td>The ordeal of train travel</td>\n",
       "      <td>Staff laid off at Breathe com</td>\n",
       "      <td>German wing of Fool com folds</td>\n",
       "      <td>Extracts from the report</td>\n",
       "      <td>Ariel Sharon  the waiting warrior</td>\n",
       "      <td>Extracts from the report</td>\n",
       "      <td>London critics laud Billy Elliot</td>\n",
       "    </tr>\n",
       "    <tr>\n",
       "      <th>251</th>\n",
       "      <td>Sheringham the big difference</td>\n",
       "      <td>Round up</td>\n",
       "      <td>Young Doherty earns his Spurs in defence</td>\n",
       "      <td>Wise move to stave off transfer</td>\n",
       "      <td>Solano remains the talk of the Tyne</td>\n",
       "      <td>School of science survives pits visit</td>\n",
       "      <td>Leeds come through a desert</td>\n",
       "      <td>Kanoute double spares Hammers</td>\n",
       "      <td>Christie helps Smith buy time</td>\n",
       "      <td>Weaver mends frayed nerves</td>\n",
       "      <td>Warnock sinks seething in south</td>\n",
       "      <td>Reds alert despite Fowler s absence</td>\n",
       "      <td>Lack of fire cracks old joke of York</td>\n",
       "      <td>Jones wakes sleeping Wolves</td>\n",
       "      <td>Ipswich are too wise to be caught out by Morec...</td>\n",
       "      <td>End of the jolly green giantkillers</td>\n",
       "      <td>Charlton fail to handle Daggers</td>\n",
       "      <td>Chapple savours another Ks special</td>\n",
       "      <td>Bellamy sees off Brady bunch</td>\n",
       "      <td>Blades and Saints resume a century of Cup conf...</td>\n",
       "      <td>Dagenham dream of Spurs as Leeds face Liverpool</td>\n",
       "      <td>Fourth round draw</td>\n",
       "      <td>Carlisle head out and across the border</td>\n",
       "      <td>From  Kaz    Jan</td>\n",
       "      <td>Charities pull funds out of arms firms</td>\n",
       "    </tr>\n",
       "  </tbody>\n",
       "</table>\n",
       "</div>"
      ],
      "text/plain": [
       "                                                     0  ...                                      24\n",
       "247             Letters  In memory of Charlotte Wilson  ...  Arafat s last despairing bid for peace\n",
       "248                             BG goes volatile again  ...                 Finding a perfect nanny\n",
       "249                               A year of two halves  ...         Labour donors give   m to party\n",
       "250  The terrorist s daughter whose vendetta shook ...  ...        London critics laud Billy Elliot\n",
       "251                      Sheringham the big difference  ...  Charities pull funds out of arms firms\n",
       "\n",
       "[5 rows x 25 columns]"
      ]
     },
     "execution_count": 6,
     "metadata": {
      "tags": []
     },
     "output_type": "execute_result"
    }
   ],
   "source": [
    "# Removing punctuations\n",
    "data=train.iloc[:,2:27]\n",
    "data.replace(\"[^a-zA-Z]\",\" \",regex=True, inplace=True)\n",
    "\n",
    "# Renaming column names for ease of access\n",
    "list1= [i for i in range(25)]\n",
    "new_Index=[str(i) for i in list1]\n",
    "data.columns= new_Index\n",
    "data.head(5)"
   ]
  },
  {
   "cell_type": "code",
   "execution_count": 7,
   "metadata": {
    "colab": {
     "base_uri": "https://localhost:8080/",
     "height": 202
    },
    "id": "pUwkBjSgMNgw",
    "outputId": "6a5b795b-6c54-4340-a49c-166818f16748"
   },
   "outputs": [
    {
     "data": {
      "text/html": [
       "<div>\n",
       "<style scoped>\n",
       "    .dataframe tbody tr th:only-of-type {\n",
       "        vertical-align: middle;\n",
       "    }\n",
       "\n",
       "    .dataframe tbody tr th {\n",
       "        vertical-align: top;\n",
       "    }\n",
       "\n",
       "    .dataframe thead th {\n",
       "        text-align: right;\n",
       "    }\n",
       "</style>\n",
       "<table border=\"1\" class=\"dataframe\">\n",
       "  <thead>\n",
       "    <tr style=\"text-align: right;\">\n",
       "      <th></th>\n",
       "      <th>0</th>\n",
       "      <th>1</th>\n",
       "      <th>2</th>\n",
       "      <th>3</th>\n",
       "      <th>4</th>\n",
       "      <th>5</th>\n",
       "      <th>6</th>\n",
       "      <th>7</th>\n",
       "      <th>8</th>\n",
       "      <th>9</th>\n",
       "      <th>10</th>\n",
       "      <th>11</th>\n",
       "      <th>12</th>\n",
       "      <th>13</th>\n",
       "      <th>14</th>\n",
       "      <th>15</th>\n",
       "      <th>16</th>\n",
       "      <th>17</th>\n",
       "      <th>18</th>\n",
       "      <th>19</th>\n",
       "      <th>20</th>\n",
       "      <th>21</th>\n",
       "      <th>22</th>\n",
       "      <th>23</th>\n",
       "      <th>24</th>\n",
       "    </tr>\n",
       "  </thead>\n",
       "  <tbody>\n",
       "    <tr>\n",
       "      <th>247</th>\n",
       "      <td>letters  in memory of charlotte wilson</td>\n",
       "      <td>margaret s state of health causes queen concern</td>\n",
       "      <td>money and politics   the winners and losers</td>\n",
       "      <td>blair may ask   m donor to go public</td>\n",
       "      <td>labour looks for business backing</td>\n",
       "      <td>profile  paul hamlyn</td>\n",
       "      <td>george carman</td>\n",
       "      <td>algerian  critical  after street stabbing</td>\n",
       "      <td>statue  chain  and medal</td>\n",
       "      <td>labour s mystery benefactor</td>\n",
       "      <td>george carman qc dies</td>\n",
       "      <td>woman killed in giant landslide in wales</td>\n",
       "      <td>george carman qc  a career in quotations</td>\n",
       "      <td>happy new year from societyguardian co uk</td>\n",
       "      <td>we felt we were poisoning her</td>\n",
       "      <td>the diary of a junior doctor</td>\n",
       "      <td>self help books</td>\n",
       "      <td>dear doctor</td>\n",
       "      <td>lord hamlyn is labour s   m donor</td>\n",
       "      <td>playing with the phantoms of prussia past</td>\n",
       "      <td>canal plus to sell stake in eurosport</td>\n",
       "      <td>interview  ben kingsley</td>\n",
       "      <td>amazon announces record sales for december</td>\n",
       "      <td>compromise solution to wh smith distribution row</td>\n",
       "      <td>arafat s last despairing bid for peace</td>\n",
       "    </tr>\n",
       "  </tbody>\n",
       "</table>\n",
       "</div>"
      ],
      "text/plain": [
       "                                          0  ...                                      24\n",
       "247  letters  in memory of charlotte wilson  ...  arafat s last despairing bid for peace\n",
       "\n",
       "[1 rows x 25 columns]"
      ]
     },
     "execution_count": 7,
     "metadata": {
      "tags": []
     },
     "output_type": "execute_result"
    }
   ],
   "source": [
    "# Convertng headlines to lower case\n",
    "for index in new_Index:\n",
    "    data[index]=data[index].str.lower()\n",
    "data.head(1)"
   ]
  },
  {
   "cell_type": "code",
   "execution_count": 8,
   "metadata": {
    "colab": {
     "base_uri": "https://localhost:8080/",
     "height": 120
    },
    "id": "uHu-wIg1MNeE",
    "outputId": "48d9d14c-9835-48ab-8bc5-9e452bd1ff3f"
   },
   "outputs": [
    {
     "data": {
      "application/vnd.google.colaboratory.intrinsic+json": {
       "type": "string"
      },
      "text/plain": [
       "'bg goes volatile again shrinking westminster from  deirdre    jan  where did it all go wrong  winona  number of boys held on remand doubles why didn t they just publish and be damned  shrinking westminster intel inside the portable gadget market malcolm  dean  cheques and balances commuter trains in near collision bbc worldwide christmas sales reach    m young carers are shameful reminder of system s failings councils may lose housing duties under tory plan wh smith abandons distribution plans obituary  george carman letsbuyit com on the brink sykes takes up reins at imperial get well soon  welcome back  and goodbye for ever ikea ad voted  most irritating  of the year itv misses peak time target arms and the  innocent  man the panel  toddler tax credit dreaming of a slack christmas erin gill on being brought up by her father finding a perfect nanny'"
      ]
     },
     "execution_count": 8,
     "metadata": {
      "tags": []
     },
     "output_type": "execute_result"
    }
   ],
   "source": [
    "' '.join(str(x) for x in data.iloc[1,0:25])"
   ]
  },
  {
   "cell_type": "code",
   "execution_count": 10,
   "metadata": {
    "id": "7GqoW95LMNbu"
   },
   "outputs": [],
   "source": [
    "headlines = []\n",
    "for row in range(0,len(data.index)):\n",
    "    headlines.append(' '.join(str(x) for x in data.iloc[row,0:25]))"
   ]
  },
  {
   "cell_type": "code",
   "execution_count": 11,
   "metadata": {
    "id": "ewR4qmRuMNY4"
   },
   "outputs": [],
   "source": [
    "from sklearn.feature_extraction.text import CountVectorizer\n",
    "from sklearn.ensemble import RandomForestClassifier"
   ]
  },
  {
   "cell_type": "code",
   "execution_count": 14,
   "metadata": {
    "id": "c5sObCVzMo-m"
   },
   "outputs": [],
   "source": [
    "## implement BAG OF WORDS\n",
    "countvector=CountVectorizer(ngram_range=(2,2))\n",
    "traindataset=countvector.fit_transform(headlines)"
   ]
  },
  {
   "cell_type": "code",
   "execution_count": 13,
   "metadata": {
    "colab": {
     "base_uri": "https://localhost:8080/"
    },
    "id": "1ekjupZXMsTt",
    "outputId": "2e27cd0f-1f8b-4b0a-e39e-76460801397e"
   },
   "outputs": [
    {
     "data": {
      "text/plain": [
       "RandomForestClassifier(bootstrap=True, ccp_alpha=0.0, class_weight=None,\n",
       "                       criterion='entropy', max_depth=None, max_features='auto',\n",
       "                       max_leaf_nodes=None, max_samples=None,\n",
       "                       min_impurity_decrease=0.0, min_impurity_split=None,\n",
       "                       min_samples_leaf=1, min_samples_split=2,\n",
       "                       min_weight_fraction_leaf=0.0, n_estimators=200,\n",
       "                       n_jobs=None, oob_score=False, random_state=None,\n",
       "                       verbose=0, warm_start=False)"
      ]
     },
     "execution_count": 13,
     "metadata": {
      "tags": []
     },
     "output_type": "execute_result"
    }
   ],
   "source": [
    "# implement RandomForest Classifier\n",
    "randomclassifier=RandomForestClassifier(n_estimators=200,criterion='entropy')\n",
    "randomclassifier.fit(traindataset,train['Label'])"
   ]
  },
  {
   "cell_type": "code",
   "execution_count": 19,
   "metadata": {
    "id": "APTl2PrWMuiN"
   },
   "outputs": [],
   "source": [
    "## Predict for the Test Dataset\n",
    "test_transform= []\n",
    "for row in range(0,len(test.index)):\n",
    "    test_transform.append(' '.join(str(x) for x in test.iloc[row,2:27]))\n",
    "test_dataset = countvector.transform(test_transform)\n",
    "predictions = randomclassifier.predict(test_dataset)"
   ]
  },
  {
   "cell_type": "code",
   "execution_count": 18,
   "metadata": {
    "colab": {
     "base_uri": "https://localhost:8080/"
    },
    "id": "RikE_AaTM0WD",
    "outputId": "c7718a24-0064-469a-f748-d6f2805fae7a"
   },
   "outputs": [
    {
     "name": "stdout",
     "output_type": "stream",
     "text": [
      "[[149 511]\n",
      " [ 20 701]]\n",
      "0.6154960173787111\n",
      "              precision    recall  f1-score   support\n",
      "\n",
      "           0       0.88      0.23      0.36       660\n",
      "           1       0.58      0.97      0.73       721\n",
      "\n",
      "    accuracy                           0.62      1381\n",
      "   macro avg       0.73      0.60      0.54      1381\n",
      "weighted avg       0.72      0.62      0.55      1381\n",
      "\n"
     ]
    }
   ],
   "source": [
    "## Import library to check accuracy\n",
    "from sklearn.metrics import classification_report,confusion_matrix,accuracy_score\n",
    "matrix=confusion_matrix(test['Label'],predictions)\n",
    "print(matrix)\n",
    "score=accuracy_score(test['Label'],predictions)\n",
    "print(score)\n",
    "report=classification_report(test['Label'],predictions)\n",
    "print(report)"
   ]
  }
 ],
 "metadata": {
  "colab": {
   "name": "task_4B_GRIP.ipynb",
   "provenance": []
  },
  "kernelspec": {
   "display_name": "Python 3",
   "language": "python",
   "name": "python3"
  },
  "language_info": {
   "codemirror_mode": {
    "name": "ipython",
    "version": 3
   },
   "file_extension": ".py",
   "mimetype": "text/x-python",
   "name": "python",
   "nbconvert_exporter": "python",
   "pygments_lexer": "ipython3",
   "version": "3.7.0"
  }
 },
 "nbformat": 4,
 "nbformat_minor": 1
}
